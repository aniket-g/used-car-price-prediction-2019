{
 "cells": [
  {
   "cell_type": "markdown",
   "metadata": {},
   "source": [
    "# <b>Used Car Price Analysis & Prediction</b>\n",
    "\n",
    "Problem Statement - \n",
    "\n",
    "When we want to sell our used cars, we often think, do we get its worth price? Will people think to buy if we keep the price of the car at this rate? and so on. So this is how questions arise. This model will help tackle those questions.         \n",
    "\n",
    "Goal - \n",
    "\n",
    "Here goal is to let the consumer know for what price one must lists the cars on online portal and it also helps to predict the used car prices if we tweak some parameters.\n",
    "\n",
    "To predict the prices and anlysis we have used so many libraries and multiple regression model.\n",
    "\n",
    "\n",
    "The data is scrapped from the online car marketplace portal. This data includes the Make, Model, Variant, City, Price, Year, Kilometer, Fuel Type, Owner and so on. Let us build the model. "
   ]
  },
  {
   "cell_type": "markdown",
   "metadata": {},
   "source": [
    "<b>Lets import the relevent packages for statistical Analysis</b> "
   ]
  },
  {
   "cell_type": "code",
   "execution_count": 1,
   "metadata": {},
   "outputs": [],
   "source": [
    "import pandas as pd\n",
    "import numpy as np\n",
    "from sklearn.model_selection import train_test_split, GridSearchCV\n",
    "import matplotlib.pyplot as plt\n",
    "pd.options.display.float_format = '{:,.3f}'.format #3 decimals after point \n",
    "pd.options.display.max_rows = 300 #Max rows of columns 300\n",
    "pd.options.display.max_columns = 10000 # this will set limit of columns to 10000\n",
    "# for data visualisation and statistical analysis\n",
    "%matplotlib inline\n",
    "import seaborn as sns\n",
    "sns.set_style(\"white\")"
   ]
  },
  {
   "cell_type": "markdown",
   "metadata": {},
   "source": [
    "<b>Lets import the relevent packages for models</b> "
   ]
  },
  {
   "cell_type": "code",
   "execution_count": 2,
   "metadata": {},
   "outputs": [],
   "source": [
    "from sklearn.linear_model import LinearRegression\n",
    "from sklearn.tree import DecisionTreeRegressor\n",
    "from sklearn.preprocessing import OneHotEncoder\n",
    "from sklearn.compose import make_column_transformer\n",
    "from sklearn.pipeline import make_pipeline\n",
    "from sklearn.metrics import mean_squared_error, r2_score\n",
    "# import warnings filter\n",
    "from warnings import simplefilter\n",
    "# ignore all future warnings\n",
    "simplefilter(action='ignore', category=FutureWarning)\n",
    "from sklearn import neighbors\n",
    "from sklearn.ensemble import GradientBoostingRegressor"
   ]
  },
  {
   "cell_type": "markdown",
   "metadata": {},
   "source": [
    "<b>We will read the data here</b>"
   ]
  },
  {
   "cell_type": "code",
   "execution_count": 3,
   "metadata": {
    "scrolled": true
   },
   "outputs": [
    {
     "data": {
      "text/html": [
       "<div>\n",
       "<style scoped>\n",
       "    .dataframe tbody tr th:only-of-type {\n",
       "        vertical-align: middle;\n",
       "    }\n",
       "\n",
       "    .dataframe tbody tr th {\n",
       "        vertical-align: top;\n",
       "    }\n",
       "\n",
       "    .dataframe thead th {\n",
       "        text-align: right;\n",
       "    }\n",
       "</style>\n",
       "<table border=\"1\" class=\"dataframe\">\n",
       "  <thead>\n",
       "    <tr style=\"text-align: right;\">\n",
       "      <th></th>\n",
       "      <th>Sno</th>\n",
       "      <th>State</th>\n",
       "      <th>Make</th>\n",
       "      <th>Model</th>\n",
       "      <th>Variant</th>\n",
       "      <th>Color</th>\n",
       "      <th>City</th>\n",
       "      <th>Mileage</th>\n",
       "      <th>Mfgyear</th>\n",
       "      <th>Owner</th>\n",
       "      <th>Price</th>\n",
       "      <th>Gearbox</th>\n",
       "      <th>Fuel</th>\n",
       "    </tr>\n",
       "  </thead>\n",
       "  <tbody>\n",
       "    <tr>\n",
       "      <td>0</td>\n",
       "      <td>1</td>\n",
       "      <td>Kerala</td>\n",
       "      <td>Ford</td>\n",
       "      <td>Fiesta</td>\n",
       "      <td>EXi 1.4 Durasport</td>\n",
       "      <td>White</td>\n",
       "      <td>Alappuzha</td>\n",
       "      <td>75000</td>\n",
       "      <td>2007</td>\n",
       "      <td>3</td>\n",
       "      <td>120000</td>\n",
       "      <td>Manual</td>\n",
       "      <td>Petrol</td>\n",
       "    </tr>\n",
       "    <tr>\n",
       "      <td>1</td>\n",
       "      <td>2</td>\n",
       "      <td>Tamil Nadu</td>\n",
       "      <td>Renault</td>\n",
       "      <td>Kwid</td>\n",
       "      <td>RxT</td>\n",
       "      <td>Grey</td>\n",
       "      <td>Chennai</td>\n",
       "      <td>32000</td>\n",
       "      <td>2016</td>\n",
       "      <td>1</td>\n",
       "      <td>450000</td>\n",
       "      <td>Manual</td>\n",
       "      <td>Petrol</td>\n",
       "    </tr>\n",
       "    <tr>\n",
       "      <td>2</td>\n",
       "      <td>3</td>\n",
       "      <td>Maharashtra</td>\n",
       "      <td>Hyundai</td>\n",
       "      <td>Santro Xing</td>\n",
       "      <td>GLS</td>\n",
       "      <td>Grey</td>\n",
       "      <td>Mumbai</td>\n",
       "      <td>70000</td>\n",
       "      <td>2007</td>\n",
       "      <td>2</td>\n",
       "      <td>115000</td>\n",
       "      <td>Manual</td>\n",
       "      <td>Petrol</td>\n",
       "    </tr>\n",
       "  </tbody>\n",
       "</table>\n",
       "</div>"
      ],
      "text/plain": [
       "   Sno        State     Make        Model            Variant  Color  \\\n",
       "0    1       Kerala     Ford       Fiesta  EXi 1.4 Durasport  White   \n",
       "1    2   Tamil Nadu  Renault         Kwid                RxT   Grey   \n",
       "2    3  Maharashtra  Hyundai  Santro Xing                GLS   Grey   \n",
       "\n",
       "        City  Mileage  Mfgyear Owner   Price Gearbox    Fuel  \n",
       "0  Alappuzha    75000     2007     3  120000  Manual  Petrol  \n",
       "1    Chennai    32000     2016     1  450000  Manual  Petrol  \n",
       "2     Mumbai    70000     2007     2  115000  Manual  Petrol  "
      ]
     },
     "execution_count": 3,
     "metadata": {},
     "output_type": "execute_result"
    }
   ],
   "source": [
    "df = pd.read_excel(\"used-cars-data.xlsx\")\n",
    "df.head(3)"
   ]
  },
  {
   "cell_type": "markdown",
   "metadata": {},
   "source": [
    "# Cleaning & Pre-Processing"
   ]
  },
  {
   "cell_type": "markdown",
   "metadata": {},
   "source": [
    "<b>Lets drop some unwanted columns</b>"
   ]
  },
  {
   "cell_type": "code",
   "execution_count": 4,
   "metadata": {},
   "outputs": [
    {
     "data": {
      "text/html": [
       "<div>\n",
       "<style scoped>\n",
       "    .dataframe tbody tr th:only-of-type {\n",
       "        vertical-align: middle;\n",
       "    }\n",
       "\n",
       "    .dataframe tbody tr th {\n",
       "        vertical-align: top;\n",
       "    }\n",
       "\n",
       "    .dataframe thead th {\n",
       "        text-align: right;\n",
       "    }\n",
       "</style>\n",
       "<table border=\"1\" class=\"dataframe\">\n",
       "  <thead>\n",
       "    <tr style=\"text-align: right;\">\n",
       "      <th></th>\n",
       "      <th>Make</th>\n",
       "      <th>Model</th>\n",
       "      <th>Variant</th>\n",
       "      <th>City</th>\n",
       "      <th>Mileage</th>\n",
       "      <th>Mfgyear</th>\n",
       "      <th>Owner</th>\n",
       "      <th>Price</th>\n",
       "      <th>Fuel</th>\n",
       "    </tr>\n",
       "  </thead>\n",
       "  <tbody>\n",
       "    <tr>\n",
       "      <td>0</td>\n",
       "      <td>Ford</td>\n",
       "      <td>Fiesta</td>\n",
       "      <td>EXi 1.4 Durasport</td>\n",
       "      <td>Alappuzha</td>\n",
       "      <td>75000</td>\n",
       "      <td>2007</td>\n",
       "      <td>3</td>\n",
       "      <td>120000</td>\n",
       "      <td>Petrol</td>\n",
       "    </tr>\n",
       "    <tr>\n",
       "      <td>1</td>\n",
       "      <td>Renault</td>\n",
       "      <td>Kwid</td>\n",
       "      <td>RxT</td>\n",
       "      <td>Chennai</td>\n",
       "      <td>32000</td>\n",
       "      <td>2016</td>\n",
       "      <td>1</td>\n",
       "      <td>450000</td>\n",
       "      <td>Petrol</td>\n",
       "    </tr>\n",
       "    <tr>\n",
       "      <td>2</td>\n",
       "      <td>Hyundai</td>\n",
       "      <td>Santro Xing</td>\n",
       "      <td>GLS</td>\n",
       "      <td>Mumbai</td>\n",
       "      <td>70000</td>\n",
       "      <td>2007</td>\n",
       "      <td>2</td>\n",
       "      <td>115000</td>\n",
       "      <td>Petrol</td>\n",
       "    </tr>\n",
       "  </tbody>\n",
       "</table>\n",
       "</div>"
      ],
      "text/plain": [
       "      Make        Model            Variant       City  Mileage  Mfgyear Owner  \\\n",
       "0     Ford       Fiesta  EXi 1.4 Durasport  Alappuzha    75000     2007     3   \n",
       "1  Renault         Kwid                RxT    Chennai    32000     2016     1   \n",
       "2  Hyundai  Santro Xing                GLS     Mumbai    70000     2007     2   \n",
       "\n",
       "    Price    Fuel  \n",
       "0  120000  Petrol  \n",
       "1  450000  Petrol  \n",
       "2  115000  Petrol  "
      ]
     },
     "execution_count": 4,
     "metadata": {},
     "output_type": "execute_result"
    }
   ],
   "source": [
    "df = df.drop(['Sno','State','Color','Gearbox'], axis = 1)\n",
    "df.head(3)"
   ]
  },
  {
   "cell_type": "markdown",
   "metadata": {},
   "source": [
    "<b>I am just making all the categorial features (strings) into lower case to maintain the consistency</b>"
   ]
  },
  {
   "cell_type": "code",
   "execution_count": 5,
   "metadata": {},
   "outputs": [],
   "source": [
    "num_vars = ['Make', \"Model\", \"Variant\", \"City\", \"Fuel\"]\n",
    "\n",
    "for i in num_vars:\n",
    "    df[i] = df[i].map(str).apply(lambda x: x.lower())"
   ]
  },
  {
   "cell_type": "markdown",
   "metadata": {},
   "source": [
    "<b>Lets find out null values and overcome those values due to which our model can work smoothly or it can not get interrupted</b>"
   ]
  },
  {
   "cell_type": "code",
   "execution_count": 6,
   "metadata": {},
   "outputs": [
    {
     "data": {
      "text/plain": [
       "Make         0\n",
       "Model        0\n",
       "Variant      0\n",
       "City         0\n",
       "Mileage      0\n",
       "Mfgyear      0\n",
       "Owner      477\n",
       "Price        0\n",
       "Fuel         0\n",
       "dtype: int64"
      ]
     },
     "execution_count": 6,
     "metadata": {},
     "output_type": "execute_result"
    }
   ],
   "source": [
    "df.isna().sum()"
   ]
  },
  {
   "cell_type": "markdown",
   "metadata": {},
   "source": [
    "<b>Now owner contains around 477 null values, so better we could get over of them</b>"
   ]
  },
  {
   "cell_type": "code",
   "execution_count": 7,
   "metadata": {},
   "outputs": [],
   "source": [
    "df = df[df['Owner'].notnull()]"
   ]
  },
  {
   "cell_type": "markdown",
   "metadata": {},
   "source": [
    "<b>Here I am taking only cars manufacturer which are famous in Indian market for Used cars</b>"
   ]
  },
  {
   "cell_type": "code",
   "execution_count": 8,
   "metadata": {},
   "outputs": [],
   "source": [
    "filter_list = ['hyundai', 'maruti suzuki', 'tata', 'mahindra', 'toyota', 'honda', 'ford', 'volkswagen']\n",
    "df = df[df.Make.isin(filter_list)]"
   ]
  },
  {
   "cell_type": "markdown",
   "metadata": {},
   "source": [
    "<b>As I am being so curious about the prices, I have done so much R&D on prices</b>\n",
    "<br>\n",
    "<b>Lets clean the over prices and too less prices according to analysis, I have done</b>"
   ]
  },
  {
   "cell_type": "code",
   "execution_count": 9,
   "metadata": {},
   "outputs": [],
   "source": [
    "indexNames = df[(df['Make'] == \"hyundai\") & (df['Model'] == \"4s fluidic verna\") & (df['Price'] > 1200000)].index\n",
    "df.drop(indexNames, inplace=True)\n",
    "indexNames = df[(df['Make'] == \"hyundai\") & (df['Model'] == \"accent\") & (df['Price'] > 1000000)].index\n",
    "df.drop(indexNames, inplace=True)\n",
    "indexNames = df[(df['Make'] == \"hyundai\") & (df['Model'] == \"creta\") & (df['Price'] > 2000000)].index\n",
    "df.drop(indexNames, inplace=True)\n",
    "indexNames = df[(df['Make'] == \"hyundai\") & (df['Model'] == \"elantra\") & (df['Price'] > 800000)].index\n",
    "df.drop(indexNames, inplace=True)\n",
    "indexNames = df[(df['Make'] == \"hyundai\") & (df['Model'] == \"elite i20\") & (df['Price'] > 1000000)].index\n",
    "df.drop(indexNames, inplace=True)\n",
    "indexNames = df[(df['Make'] == \"hyundai\") & (df['Model'] == \"eon\") & (df['Price'] > 900000)].index\n",
    "df.drop(indexNames, inplace=True)\n",
    "indexNames = df[(df['Make'] == \"hyundai\") & (df['Model'] == \"fluidic verna\") & (df['Price'] > 1000000)].index\n",
    "df.drop(indexNames, inplace=True)\n",
    "indexNames = df[(df['Make'] == \"hyundai\") & (df['Model'] == \"getz\") & (df['Price'] > 400000)].index\n",
    "df.drop(indexNames, inplace=True)\n",
    "indexNames = df[(df['Make'] == \"hyundai\") & (df['Model'] == \"getz prime\") & (df['Price'] > 500000)].index\n",
    "df.drop(indexNames, inplace=True)\n",
    "indexNames = df[(df['Make'] == \"hyundai\") & (df['Model'] == \"grand i10\") & (df['Price'] > 1100000)].index\n",
    "df.drop(indexNames, inplace=True)\n",
    "indexNames = df[(df['Make'] == \"hyundai\") & (df['Model'] == \"i10\") & (df['Price'] > 700000)].index\n",
    "df.drop(indexNames, inplace=True)\n",
    "indexNames = df[(df['Make'] == \"hyundai\") & (df['Model'] == \"i20\") & (df['Price'] > 800000)].index\n",
    "df.drop(indexNames, inplace=True)\n",
    "indexNames = df[(df['Make'] == \"hyundai\") & (df['Model'] == \"i20 active\") & (df['Price'] > 1500000)].index\n",
    "df.drop(indexNames, inplace=True)\n",
    "indexNames = df[(df['Make'] == \"hyundai\") & (df['Model'] == \"neo fluidic elantra\") & (df['Price'] > 2500000)].index\n",
    "df.drop(indexNames, inplace=True)\n",
    "indexNames = df[(df['Make'] == \"hyundai\") & (df['Model'] == \"santa fe\") & (df['Price'] > 3500000)].index\n",
    "df.drop(indexNames, inplace=True)\n",
    "indexNames = df[(df['Make'] == \"hyundai\") & (df['Model'] == \"santro\") & (df['Price'] > 250000)].index\n",
    "df.drop(indexNames, inplace=True)\n",
    "indexNames = df[(df['Make'] == \"hyundai\") & (df['Model'] == \"santro xing\") & (df['Price'] > 500000)].index\n",
    "df.drop(indexNames, inplace=True)\n",
    "indexNames = df[(df['Make'] == \"hyundai\") & (df['Model'] == \"sonata\") & (df['Price'] > 1500000)].index\n",
    "df.drop(indexNames, inplace=True)\n",
    "indexNames = df[(df['Make'] == \"hyundai\") & (df['Model'] == \"sonata embera\") & (df['Price'] > 700000)].index\n",
    "df.drop(indexNames, inplace=True)\n",
    "indexNames = df[(df['Make'] == \"hyundai\") & (df['Model'] == \"sonata transform\") & (df['Price'] > 1000000)].index\n",
    "df.drop(indexNames, inplace=True)\n",
    "indexNames = df[(df['Make'] == \"hyundai\") & (df['Model'] == \"terracan\") & (df['Price'] > 700000)].index\n",
    "df.drop(indexNames, inplace=True)\n",
    "indexNames = df[(df['Make'] == \"hyundai\") & (df['Model'] == \"tucson\") & (df['Price'] > 3000000)].index\n",
    "df.drop(indexNames, inplace=True)\n",
    "indexNames = df[(df['Make'] == \"hyundai\") & (df['Model'] == \"verna\") & (df['Price'] > 1700000)].index\n",
    "df.drop(indexNames, inplace=True)\n",
    "indexNames = df[(df['Make'] == \"hyundai\") & (df['Model'] == \"xcent\") & (df['Price'] > 1000000)].index\n",
    "df.drop(indexNames, inplace=True)\n",
    "\n",
    "\n",
    "#suzuki - 90\n",
    "\n",
    "indexNames = df[(df['Make'] == \"maruti suzuki\") & (df['Model'] == \"1000\") & (df['Price'] > 500000)].index\n",
    "df.drop(indexNames, inplace=True)\n",
    "indexNames = df[(df['Make'] == \"maruti suzuki\") & (df['Model'] == \"800\") & (df['Price'] > 500000)].index\n",
    "df.drop(indexNames, inplace=True)\n",
    "indexNames = df[(df['Make'] == \"maruti suzuki\") & (df['Model'] == \"a star\") & (df['Price'] > 500000)].index\n",
    "df.drop(indexNames, inplace=True)\n",
    "indexNames = df[(df['Make'] == \"maruti suzuki\") & (df['Model'] == \"alto\") & (df['Price'] > 500000)].index\n",
    "df.drop(indexNames, inplace=True)\n",
    "indexNames = df[(df['Make'] == \"maruti suzuki\") & (df['Model'] == \"alto 800\") & (df['Price'] > 500000)].index\n",
    "df.drop(indexNames, inplace=True)\n",
    "indexNames = df[(df['Make'] == \"maruti suzuki\") & (df['Model'] == \"alto k10\") & (df['Price'] > 600000)].index\n",
    "df.drop(indexNames, inplace=True)\n",
    "indexNames = df[(df['Make'] == \"maruti suzuki\") & (df['Model'] == \"baleno\") & (df['Price'] > 1200000)].index\n",
    "df.drop(indexNames, inplace=True)\n",
    "indexNames = df[(df['Make'] == \"maruti suzuki\") & (df['Model'] == \"celerio\") & (df['Price'] > 800000)].index\n",
    "df.drop(indexNames, inplace=True)\n",
    "indexNames = df[(df['Make'] == \"maruti suzuki\") & (df['Model'] == \"celerio x\") & (df['Price'] > 800000)].index\n",
    "df.drop(indexNames, inplace=True)\n",
    "indexNames = df[(df['Make'] == \"maruti suzuki\") & (df['Model'] == \"ciaz\") & (df['Price'] > 1500000)].index\n",
    "df.drop(indexNames, inplace=True)\n",
    "indexNames = df[(df['Make'] == \"maruti suzuki\") & (df['Model'] == \"dzire\") & (df['Price'] > 1200000)].index\n",
    "df.drop(indexNames, inplace=True)\n",
    "indexNames = df[(df['Make'] == \"maruti suzuki\") & (df['Model'] == \"eeco\") & (df['Price'] > 500000)].index\n",
    "df.drop(indexNames, inplace=True)\n",
    "indexNames = df[(df['Make'] == \"maruti suzuki\") & (df['Model'] == \"ertiga\") & (df['Price'] > 1500000)].index\n",
    "df.drop(indexNames, inplace=True)\n",
    "indexNames = df[(df['Make'] == \"maruti suzuki\") & (df['Model'] == \"esteem\") & (df['Price'] > 600000)].index\n",
    "df.drop(indexNames, inplace=True)\n",
    "indexNames = df[(df['Make'] == \"maruti suzuki\") & (df['Model'] == \"grand vitara\") & (df['Price'] > 1000000)].index\n",
    "df.drop(indexNames, inplace=True)\n",
    "indexNames = df[(df['Make'] == \"maruti suzuki\") & (df['Model'] == \"gypsy\") & (df['Price'] > 800000)].index\n",
    "df.drop(indexNames, inplace=True)\n",
    "indexNames = df[(df['Make'] == \"maruti suzuki\") & (df['Model'] == \"ignis\") & (df['Price'] > 1000000)].index\n",
    "df.drop(indexNames, inplace=True)\n",
    "indexNames = df[(df['Make'] == \"maruti suzuki\") & (df['Model'] == \"kizashi\") & (df['Price'] > 800000)].index\n",
    "df.drop(indexNames, inplace=True)\n",
    "indexNames = df[(df['Make'] == \"maruti suzuki\") & (df['Model'] == \"new swift dzire\") & (df['Price'] > 1500000)].index\n",
    "df.drop(indexNames, inplace=True)\n",
    "indexNames = df[(df['Make'] == \"maruti suzuki\") & (df['Model'] == \"omni\") & (df['Price'] > 500000)].index\n",
    "df.drop(indexNames, inplace=True)\n",
    "indexNames = df[(df['Make'] == \"maruti suzuki\") & (df['Model'] == \"ritz\") & (df['Price'] > 600000)].index\n",
    "df.drop(indexNames, inplace=True)\n",
    "indexNames = df[(df['Make'] == \"maruti suzuki\") & (df['Model'] == \"s cross\") & (df['Price'] > 1600000)].index\n",
    "df.drop(indexNames, inplace=True)\n",
    "indexNames = df[(df['Make'] == \"maruti suzuki\") & (df['Model'] == \"stingray\") & (df['Price'] > 500000)].index\n",
    "df.drop(indexNames, inplace=True)\n",
    "indexNames = df[(df['Make'] == \"maruti suzuki\") & (df['Model'] == \"swift\") & (df['Price'] > 1100000)].index\n",
    "df.drop(indexNames, inplace=True)\n",
    "indexNames = df[(df['Make'] == \"maruti suzuki\") & (df['Model'] == \"swift dzire\") & (df['Price'] > 1000000)].index\n",
    "df.drop(indexNames, inplace=True)\n",
    "indexNames = df[(df['Make'] == \"maruti suzuki\") & (df['Model'] == \"swift dzire tour\") & (df['Price'] > 800000)].index\n",
    "df.drop(indexNames, inplace=True)\n",
    "indexNames = df[(df['Make'] == \"maruti suzuki\") & (df['Model'] == \"swift old\") & (df['Price'] > 700000)].index\n",
    "df.drop(indexNames, inplace=True)\n",
    "indexNames = df[(df['Make'] == \"maruti suzuki\") & (df['Model'] == \"sx4\") & (df['Price'] > 500000)].index\n",
    "df.drop(indexNames, inplace=True)\n",
    "indexNames = df[(df['Make'] == \"maruti suzuki\") & (df['Model'] == \"versa\") & (df['Price'] > 499999)].index\n",
    "df.drop(indexNames, inplace=True)\n",
    "indexNames = df[(df['Make'] == \"maruti suzuki\") & (df['Model'] == \"vitara brezza\") & (df['Price'] > 1500000)].index\n",
    "df.drop(indexNames, inplace=True)\n",
    "indexNames = df[(df['Make'] == \"maruti suzuki\") & (df['Model'] == \"wagon r\") & (df['Price'] > 700000)].index\n",
    "df.drop(indexNames, inplace=True)\n",
    "indexNames = df[(df['Make'] == \"maruti suzuki\") & (df['Model'] == \"wagon r 1.0\") & (df['Price'] > 700000)].index\n",
    "df.drop(indexNames, inplace=True)\n",
    "indexNames = df[(df['Make'] == \"maruti suzuki\") & (df['Model'] == \"wagon r duo\") & (df['Price'] > 700000)].index\n",
    "df.drop(indexNames, inplace=True)\n",
    "indexNames = df[(df['Make'] == \"maruti suzuki\") & (df['Model'] == \"zen\") & (df['Price'] > 500000)].index\n",
    "df.drop(indexNames, inplace=True)\n",
    "indexNames = df[(df['Make'] == \"maruti suzuki\") & (df['Model'] == \"zen estilo\") & (df['Price'] > 500000)].index\n",
    "df.drop(indexNames, inplace=True)\n",
    "\n",
    "#tata - 90\n",
    "\n",
    "indexNames = df[(df['Make'] == 'tata') & (df['Model'] == \"ace\") & (df['Price'] > 700000)].index\n",
    "df.drop(indexNames, inplace=True)\n",
    "indexNames = df[(df['Make'] == 'tata') & (df['Model'] == \"aria\") & (df['Price'] > 1200000)].index\n",
    "df.drop(indexNames, inplace=True)\n",
    "indexNames = df[(df['Make'] == 'tata') & (df['Model'] == \"bolt\") & (df['Price'] > 800000)].index\n",
    "df.drop(indexNames, inplace=True)\n",
    "indexNames = df[(df['Make'] == 'tata') & (df['Model'] == \"estate\") & (df['Price'] > 200000)].index\n",
    "df.drop(indexNames, inplace=True)\n",
    "indexNames = df[(df['Make'] == 'tata') & (df['Model'] == \"harrier\") & (df['Price'] > 2200000)].index\n",
    "df.drop(indexNames, inplace=True)\n",
    "indexNames = df[(df['Make'] == 'tata') & (df['Model'] == \"hexa\") & (df['Price'] > 2500000)].index\n",
    "df.drop(indexNames, inplace=True)\n",
    "indexNames = df[(df['Make'] == 'tata') & (df['Model'] == \"indica\") & (df['Price'] > 500000)].index\n",
    "df.drop(indexNames, inplace=True)\n",
    "indexNames = df[(df['Make'] == 'tata') & (df['Model'] == \"indica ev2\") & (df['Price'] > 600000)].index\n",
    "df.drop(indexNames, inplace=True)\n",
    "indexNames = df[(df['Make'] == 'tata') & (df['Model'] == \"indica v2\") & (df['Price'] > 600000)].index\n",
    "df.drop(indexNames, inplace=True)\n",
    "indexNames = df[(df['Make'] == 'tata') & (df['Model'] == \"indica v2 turbo\") & (df['Price'] > 400000)].index\n",
    "df.drop(indexNames, inplace=True)\n",
    "indexNames = df[(df['Make'] == 'tata') & (df['Model'] == \"indica v2 xeta\") & (df['Price'] > 400000)].index\n",
    "df.drop(indexNames, inplace=True)\n",
    "indexNames = df[(df['Make'] == 'tata') & (df['Model'] == \"indica vista\") & (df['Price'] > 500000)].index\n",
    "df.drop(indexNames, inplace=True)\n",
    "indexNames = df[(df['Make'] == 'tata') & (df['Model'] == \"indicab\") & (df['Price'] > 300000)].index\n",
    "df.drop(indexNames, inplace=True)\n",
    "indexNames = df[(df['Make'] == 'tata') & (df['Model'] == \"indigo\") & (df['Price'] > 300000)].index\n",
    "df.drop(indexNames, inplace=True)\n",
    "indexNames = df[(df['Make'] == 'tata') & (df['Model'] == \"indigo cs\") & (df['Price'] > 350000)].index\n",
    "df.drop(indexNames, inplace=True)\n",
    "indexNames = df[(df['Make'] == 'tata') & (df['Model'] == \"indigo ecs\") & (df['Price'] > 600000)].index\n",
    "df.drop(indexNames, inplace=True)\n",
    "indexNames = df[(df['Make'] == 'tata') & (df['Model'] == \"indigo marina\") & (df['Price'] > 400000)].index\n",
    "df.drop(indexNames, inplace=True)\n",
    "indexNames = df[(df['Make'] == 'tata') & (df['Model'] == \"indigo xl\") & (df['Price'] > 450000)].index\n",
    "df.drop(indexNames, inplace=True)\n",
    "indexNames = df[(df['Make'] == 'tata') & (df['Model'] == \"manza\") & (df['Price'] > 600000)].index\n",
    "df.drop(indexNames, inplace=True)\n",
    "indexNames = df[(df['Make'] == 'tata') & (df['Model'] == \"movus\") & (df['Price'] > 400000)].index\n",
    "df.drop(indexNames, inplace=True)\n",
    "indexNames = df[(df['Make'] == 'tata') & (df['Model'] == \"nano\") & (df['Price'] > 320000)].index\n",
    "df.drop(indexNames, inplace=True)\n",
    "indexNames = df[(df['Make'] == 'tata') & (df['Model'] == \"nano genx\") & (df['Price'] > 320000)].index\n",
    "df.drop(indexNames, inplace=True)\n",
    "indexNames = df[(df['Make'] == 'tata') & (df['Model'] == \"nexon\") & (df['Price'] > 1200000)].index\n",
    "df.drop(indexNames, inplace=True)\n",
    "indexNames = df[(df['Make'] == 'tata') & (df['Model'] == \"safari\") & (df['Price'] > 1000000)].index\n",
    "df.drop(indexNames, inplace=True)\n",
    "indexNames = df[(df['Make'] == 'tata') & (df['Model'] == \"safari storme\") & (df['Price'] > 1200000)].index\n",
    "df.drop(indexNames, inplace=True)\n",
    "indexNames = df[(df['Make'] == 'tata') & (df['Model'] == \"sierra\") & (df['Price'] > 200000)].index\n",
    "df.drop(indexNames, inplace=True)\n",
    "indexNames = df[(df['Make'] == 'tata') & (df['Model'] == \"sumo\") & (df['Price'] > 900000)].index\n",
    "df.drop(indexNames, inplace=True)\n",
    "indexNames = df[(df['Make'] == 'tata') & (df['Model'] == \"sumo gold\") & (df['Price'] > 900000)].index\n",
    "df.drop(indexNames, inplace=True)\n",
    "indexNames = df[(df['Make'] == 'tata') & (df['Model'] == \"sumo grande mk ii\") & (df['Price'] > 700000)].index\n",
    "df.drop(indexNames, inplace=True)\n",
    "indexNames = df[(df['Make'] == 'tata') & (df['Model'] == \"tiago\") & (df['Price'] > 650000)].index\n",
    "df.drop(indexNames, inplace=True)\n",
    "indexNames = df[(df['Make'] == 'tata') & (df['Model'] == \"tigor\") & (df['Price'] > 780000)].index\n",
    "df.drop(indexNames, inplace=True)\n",
    "indexNames = df[(df['Make'] == 'tata') & (df['Model'] == \"tl\") & (df['Price'] > 500000)].index\n",
    "df.drop(indexNames, inplace=True)\n",
    "indexNames = df[(df['Make'] == 'tata') & (df['Model'] == \"venture\") & (df['Price'] > 500000)].index\n",
    "df.drop(indexNames, inplace=True)\n",
    "indexNames = df[(df['Make'] == 'tata') & (df['Model'] == \"vista tech\") & (df['Price'] > 480000)].index\n",
    "df.drop(indexNames, inplace=True)\n",
    "indexNames = df[(df['Make'] == 'tata') & (df['Model'] == \"winger\") & (df['Price'] > 900000)].index\n",
    "df.drop(indexNames, inplace=True)\n",
    "indexNames = df[(df['Make'] == 'tata') & (df['Model'] == \"xenon xt\") & (df['Price'] > 850000)].index\n",
    "df.drop(indexNames, inplace=True)\n",
    "indexNames = df[(df['Make'] == 'tata') & (df['Model'] == \"zest\") & (df['Price'] > 800000)].index\n",
    "df.drop(indexNames, inplace=True)\n",
    "\n",
    "\n",
    "#Honda - 86\n",
    "\n",
    "\n",
    "indexNames = df[(df['Make'] == 'honda') & (df['Model'] == \"accord\") & (df['Price'] > 1200000)].index\n",
    "df.drop(indexNames, inplace=True)\n",
    "indexNames = df[(df['Make'] == 'honda') & (df['Model'] == \"amaze\") & (df['Price'] > 1200000)].index\n",
    "df.drop(indexNames, inplace=True)\n",
    "indexNames = df[(df['Make'] == 'honda') & (df['Model'] == \"br-v\") & (df['Price'] > 1500000)].index\n",
    "df.drop(indexNames, inplace=True)\n",
    "indexNames = df[(df['Make'] == 'honda') & (df['Model'] == \"brio\") & (df['Price'] > 800000)].index\n",
    "df.drop(indexNames, inplace=True)\n",
    "indexNames = df[(df['Make'] == 'honda') & (df['Model'] == \"city\") & (df['Price'] > 1650000)].index\n",
    "df.drop(indexNames, inplace=True)\n",
    "indexNames = df[(df['Make'] == 'honda') & (df['Model'] == \"city old\") & (df['Price'] > 400000)].index\n",
    "df.drop(indexNames, inplace=True)\n",
    "indexNames = df[(df['Make'] == 'honda') & (df['Model'] == \"city zx\") & (df['Price'] > 500000)].index\n",
    "df.drop(indexNames, inplace=True)\n",
    "indexNames = df[(df['Make'] == 'honda') & (df['Model'] == \"civic\") & (df['Price'] > 900000)].index\n",
    "df.drop(indexNames, inplace=True)\n",
    "indexNames = df[(df['Make'] == 'honda') & (df['Model'] == \"civic hybrid\") & (df['Price'] > 500000)].index\n",
    "df.drop(indexNames, inplace=True)\n",
    "indexNames = df[(df['Make'] == 'honda') & (df['Model'] == \"cr v\") & (df['Price'] > 2800000)].index\n",
    "df.drop(indexNames, inplace=True)\n",
    "indexNames = df[(df['Make'] == 'honda') & (df['Model'] == \"cr v old\") & (df['Price'] > 400000)].index\n",
    "df.drop(indexNames, inplace=True)\n",
    "indexNames = df[(df['Make'] == 'honda') & (df['Model'] == \"jazz\") & (df['Price'] > 1000000)].index\n",
    "df.drop(indexNames, inplace=True)\n",
    "indexNames = df[(df['Make'] == 'honda') & (df['Model'] == \"mobilio\") & (df['Price'] > 1000000)].index\n",
    "df.drop(indexNames, inplace=True)\n",
    "indexNames = df[(df['Make'] == 'honda') & (df['Model'] == \"wr-v\") & (df['Price'] > 1200000)].index\n",
    "df.drop(indexNames, inplace=True)\n",
    "\n",
    "\n",
    "#Mahindra - 87\n",
    "\n",
    "\n",
    "indexNames = df[(df['Make'] == 'mahindra') & (df['Model'] == \"armada\") & (df['Price'] > 300000)].index\n",
    "df.drop(indexNames, inplace=True)\n",
    "indexNames = df[(df['Make'] == 'mahindra') & (df['Model'] == \"bolero\") & (df['Price'] > 1000000)].index\n",
    "df.drop(indexNames, inplace=True)\n",
    "indexNames = df[(df['Make'] == 'mahindra') & (df['Model'] == \"e2o plus\") & (df['Price'] > 350000)].index\n",
    "df.drop(indexNames, inplace=True)\n",
    "indexNames = df[(df['Make'] == 'mahindra') & (df['Model'] == \"genio\") & (df['Price'] > 650000)].index\n",
    "df.drop(indexNames, inplace=True)\n",
    "indexNames = df[(df['Make'] == 'mahindra') & (df['Model'] == \"jeep\") & (df['Price'] > 600000)].index\n",
    "df.drop(indexNames, inplace=True)\n",
    "indexNames = df[(df['Make'] == 'mahindra') & (df['Model'] == \"kuv100\") & (df['Price'] > 800000)].index\n",
    "df.drop(indexNames, inplace=True)\n",
    "indexNames = df[(df['Make'] == 'mahindra') & (df['Model'] == \"kuv100 nxt\") & (df['Price'] > 900000)].index\n",
    "df.drop(indexNames, inplace=True)\n",
    "indexNames = df[(df['Make'] == 'mahindra') & (df['Model'] == \"marazzo\") & (df['Price'] > 1400000)].index\n",
    "df.drop(indexNames, inplace=True)\n",
    "indexNames = df[(df['Make'] == 'mahindra') & (df['Model'] == \"marshal\") & (df['Price'] > 600000)].index\n",
    "df.drop(indexNames, inplace=True)\n",
    "indexNames = df[(df['Make'] == 'mahindra') & (df['Model'] == \"maxx\") & (df['Price'] > 300000)].index\n",
    "df.drop(indexNames, inplace=True)\n",
    "indexNames = df[(df['Make'] == 'mahindra') & (df['Model'] == \"nuvosport\") & (df['Price'] > 900000)].index\n",
    "df.drop(indexNames, inplace=True)\n",
    "indexNames = df[(df['Make'] == 'mahindra') & (df['Model'] == \"quanto\") & (df['Price'] > 1000000)].index\n",
    "df.drop(indexNames, inplace=True)\n",
    "indexNames = df[(df['Make'] == 'mahindra') & (df['Model'] == \"scorpio\") & (df['Price'] > 1500000)].index\n",
    "df.drop(indexNames, inplace=True)\n",
    "indexNames = df[(df['Make'] == 'mahindra') & (df['Model'] == \"thar\") & (df['Price'] > 1300000)].index\n",
    "df.drop(indexNames, inplace=True)\n",
    "indexNames = df[(df['Make'] == 'mahindra') & (df['Model'] == \"tuv300\") & (df['Price'] > 1500000)].index\n",
    "df.drop(indexNames, inplace=True)\n",
    "indexNames = df[(df['Make'] == 'mahindra') & (df['Model'] == \"verito\") & (df['Price'] > 900000)].index\n",
    "df.drop(indexNames, inplace=True)\n",
    "indexNames = df[(df['Make'] == 'mahindra') & (df['Model'] == \"verito vibe\") & (df['Price'] > 600000)].index\n",
    "df.drop(indexNames, inplace=True)\n",
    "indexNames = df[(df['Make'] == 'mahindra') & (df['Model'] == \"xuv 300\") & (df['Price'] > 1000000)].index\n",
    "df.drop(indexNames, inplace=True)\n",
    "indexNames = df[(df['Make'] == 'mahindra') & (df['Model'] == \"xuv 500\") & (df['Price'] > 1400000)].index\n",
    "df.drop(indexNames, inplace=True)\n",
    "indexNames = df[(df['Make'] == 'mahindra') & (df['Model'] == \"xuv500\") & (df['Price'] > 2000000)].index\n",
    "df.drop(indexNames, inplace=True)\n",
    "indexNames = df[(df['Make'] == 'mahindra') & (df['Model'] == \"xylo\") & (df['Price'] > 900000)].index\n",
    "df.drop(indexNames, inplace=True)\n",
    "\n",
    "\n",
    "#Toyota - 94\n",
    "\n",
    "\n",
    "indexNames = df[(df['Make'] == 'toyota') & (df['Model'] == \"alphard\") & (df['Price'] > 2000000)].index\n",
    "df.drop(indexNames, inplace=True)\n",
    "indexNames = df[(df['Make'] == 'toyota') & (df['Model'] == \"camry\") & (df['Price'] > 3000000)].index\n",
    "df.drop(indexNames, inplace=True)\n",
    "indexNames = df[(df['Make'] == 'toyota') & (df['Model'] == \"celica\") & (df['Price'] > 1000000)].index\n",
    "df.drop(indexNames, inplace=True)\n",
    "indexNames = df[(df['Make'] == 'toyota') & (df['Model'] == \"commuter\") & (df['Price'] > 4000000)].index\n",
    "df.drop(indexNames, inplace=True)\n",
    "indexNames = df[(df['Make'] == 'toyota') & (df['Model'] == \"corolla\") & (df['Price'] > 800000)].index\n",
    "df.drop(indexNames, inplace=True)\n",
    "indexNames = df[(df['Make'] == 'toyota') & (df['Model'] == \"corolla altis\") & (df['Price'] > 1900000)].index\n",
    "df.drop(indexNames, inplace=True)\n",
    "indexNames = df[(df['Make'] == 'toyota') & (df['Model'] == \"corolla levin\") & (df['Price'] > 400000)].index\n",
    "df.drop(indexNames, inplace=True)\n",
    "indexNames = df[(df['Make'] == 'toyota') & (df['Model'] == \"cresta\") & (df['Price'] > 1700000)].index\n",
    "df.drop(indexNames, inplace=True)\n",
    "indexNames = df[(df['Make'] == 'toyota') & (df['Model'] == \"estima t\") & (df['Price'] > 1000000)].index\n",
    "df.drop(indexNames, inplace=True)\n",
    "indexNames = df[(df['Make'] == 'toyota') & (df['Model'] == \"etios\") & (df['Price'] > 1000000)].index\n",
    "df.drop(indexNames, inplace=True)\n",
    "indexNames = df[(df['Make'] == 'toyota') & (df['Model'] == \"etios cross\") & (df['Price'] > 900000)].index\n",
    "df.drop(indexNames, inplace=True)\n",
    "indexNames = df[(df['Make'] == 'toyota') & (df['Model'] == \"etios liva\") & (df['Price'] > 850000)].index\n",
    "df.drop(indexNames, inplace=True)\n",
    "indexNames = df[(df['Make'] == 'toyota') & (df['Model'] == \"fortuner\") & (df['Price'] > 4000000)].index\n",
    "df.drop(indexNames, inplace=True)\n",
    "indexNames = df[(df['Make'] == 'toyota') & (df['Model'] == \"innova\") & (df['Price'] > 2000000)].index\n",
    "df.drop(indexNames, inplace=True)\n",
    "indexNames = df[(df['Make'] == 'toyota') & (df['Model'] == \"innova crysta\") & (df['Price'] > 2500000)].index\n",
    "df.drop(indexNames, inplace=True)\n",
    "indexNames = df[(df['Make'] == 'toyota') & (df['Model'] == \"land cruiser\") & (df['Price'] > 13000000)].index\n",
    "df.drop(indexNames, inplace=True)\n",
    "indexNames = df[(df['Make'] == 'toyota') & (df['Model'] == \"land cruiser prado\") & (df['Price'] > 7500000)].index\n",
    "df.drop(indexNames, inplace=True)\n",
    "indexNames = df[(df['Make'] == 'toyota') & (df['Model'] == \"lexus\") & (df['Price'] > 1400000)].index\n",
    "df.drop(indexNames, inplace=True)\n",
    "indexNames = df[(df['Make'] == 'toyota') & (df['Model'] == \"majesta\") & (df['Price'] > 100000)].index\n",
    "df.drop(indexNames, inplace=True)\n",
    "indexNames = df[(df['Make'] == 'toyota') & (df['Model'] == \"mr2\") & (df['Price'] > 680000)].index\n",
    "df.drop(indexNames, inplace=True)\n",
    "indexNames = df[(df['Make'] == 'toyota') & (df['Model'] == \"platinum etios\") & (df['Price'] > 950000)].index\n",
    "df.drop(indexNames, inplace=True)\n",
    "indexNames = df[(df['Make'] == 'toyota') & (df['Model'] == \"prius\") & (df['Price'] > 1150000)].index\n",
    "df.drop(indexNames, inplace=True)\n",
    "indexNames = df[(df['Make'] == 'toyota') & (df['Model'] == \"qualis\") & (df['Price'] > 600000)].index\n",
    "df.drop(indexNames, inplace=True)\n",
    "indexNames = df[(df['Make'] == 'toyota') & (df['Model'] == \"sera\") & (df['Price'] > 200000)].index\n",
    "df.drop(indexNames, inplace=True)\n",
    "indexNames = df[(df['Make'] == 'toyota') & (df['Model'] == \"yaris\") & (df['Price'] > 1050000)].index\n",
    "df.drop(indexNames, inplace=True)\n",
    "indexNames = df[(df['Make'] == 'toyota') & (df['Model'] == \"yaris 1.5 l j\") & (df['Price'] > 2000000)].index\n",
    "df.drop(indexNames, inplace=True)\n",
    "\n",
    "\n",
    "#Ford - 97\n",
    "\n",
    "indexNames = df[(df['Make'] == 'ford') & (df['Model'] == \"figo\") & (df['Price'] > 1000000)].index\n",
    "df.drop(indexNames, inplace=True)\n",
    "indexNames = df[(df['Make'] == 'ford') & (df['Model'] == \"ecosport\") & (df['Price'] > 1300000)].index\n",
    "df.drop(indexNames, inplace=True)\n",
    "indexNames = df[(df['Make'] == 'ford') & (df['Model'] == \"fiesta\") & (df['Price'] > 800000)].index\n",
    "df.drop(indexNames, inplace=True)\n",
    "indexNames = df[(df['Make'] == 'ford') & (df['Model'] == \"endeavour\") & (df['Price'] > 5000000)].index\n",
    "df.drop(indexNames, inplace=True)\n",
    "indexNames = df[(df['Make'] == 'ford') & (df['Model'] == \"ikon\") & (df['Price'] > 300000)].index\n",
    "df.drop(indexNames, inplace=True)\n",
    "indexNames = df[(df['Make'] == 'ford') & (df['Model'] == \"fiesta (2006 2011)\") & (df['Price'] > 500000)].index\n",
    "df.drop(indexNames, inplace=True)\n",
    "indexNames = df[(df['Make'] == 'ford') & (df['Model'] == \"figo aspire\") & (df['Price'] > 900000)].index\n",
    "df.drop(indexNames, inplace=True)\n",
    "indexNames = df[(df['Make'] == 'ford') & (df['Model'] == \"fiesta classic\") & (df['Price'] > 600000)].index\n",
    "df.drop(indexNames, inplace=True)\n",
    "indexNames = df[(df['Make'] == 'ford') & (df['Model'] == \"classic\") & (df['Price'] > 800000)].index\n",
    "df.drop(indexNames, inplace=True)\n",
    "indexNames = df[(df['Make'] == 'ford') & (df['Model'] == \"new fiesta\") & (df['Price'] > 700000)].index\n",
    "df.drop(indexNames, inplace=True)\n",
    "indexNames = df[(df['Make'] == 'ford') & (df['Model'] == \"fusion\") & (df['Price'] > 300000)].index\n",
    "df.drop(indexNames, inplace=True)\n",
    "indexNames = df[(df['Make'] == 'ford') & (df['Model'] == \"mustang\") & (df['Price'] < 3000000)].index\n",
    "df.drop(indexNames, inplace=True)\n",
    "indexNames = df[(df['Make'] == 'ford') & (df['Model'] == \"freestyle\") & (df['Price'] > 800000)].index\n",
    "df.drop(indexNames, inplace=True)\n",
    "indexNames = df[(df['Make'] == 'ford') & (df['Model'] == \"raptor\") & (df['Price'] > 400000)].index\n",
    "df.drop(indexNames, inplace=True)\n",
    "indexNames = df[(df['Make'] == 'ford') & (df['Model'] == \"mondeo\") & (df['Price'] > 300000)].index\n",
    "df.drop(indexNames, inplace=True)\n",
    "indexNames = df[(df['Make'] == 'ford') & (df['Model'] == \"escort\") & (df['Price'] > 500000)].index\n",
    "df.drop(indexNames, inplace=True)\n",
    "indexNames = df[(df['Make'] == 'ford') & (df['Model'] == \"capri\") & (df['Price'] > 250000)].index\n",
    "df.drop(indexNames, inplace=True)\n",
    "\n",
    "\n",
    "\n",
    "#Volkswagen - 80\n",
    "\n",
    "\n",
    "indexNames = df[(df['Make'] == 'volkswagen') & (df['Model'] == \"polo\") & (df['Price'] > 1050000)].index\n",
    "df.drop(indexNames, inplace=True)\n",
    "indexNames = df[(df['Make'] == 'volkswagen') & (df['Model'] == \"vento\") & (df['Price'] > 1500000)].index\n",
    "df.drop(indexNames, inplace=True)\n",
    "indexNames = df[(df['Make'] == 'volkswagen') & (df['Model'] == \"jetta\") & (df['Price'] > 1500000)].index\n",
    "df.drop(indexNames, inplace=True)\n",
    "indexNames = df[(df['Make'] == 'volkswagen') & (df['Model'] == \"ameo\") & (df['Price'] > 1000000)].index\n",
    "df.drop(indexNames, inplace=True)\n",
    "indexNames = df[(df['Make'] == 'volkswagen') & (df['Model'] == \"passat\") & (df['Price'] > 2500000)].index\n",
    "df.drop(indexNames, inplace=True)\n",
    "indexNames = df[(df['Make'] == 'volkswagen') & (df['Model'] == \"cross polo\") & (df['Price'] > 1000000)].index\n",
    "df.drop(indexNames, inplace=True)\n",
    "indexNames = df[(df['Make'] == 'volkswagen') & (df['Model'] == \"jetta old\") & (df['Price'] > 950000)].index\n",
    "df.drop(indexNames, inplace=True)\n",
    "indexNames = df[(df['Make'] == 'volkswagen') & (df['Model'] == \"touareg\") & (df['Price'] > 3300000)].index\n",
    "df.drop(indexNames, inplace=True)\n",
    "indexNames = df[(df['Make'] == 'volkswagen') & (df['Model'] == \"tiguan\") & (df['Price'] > 3000000)].index\n",
    "df.drop(indexNames, inplace=True)\n",
    "indexNames = df[(df['Make'] == 'volkswagen') & (df['Model'] == \"beetle\") & (df['Price'] > 1700000)].index\n",
    "df.drop(indexNames, inplace=True)\n",
    "indexNames = df[(df['Make'] == 'volkswagen') & (df['Model'] == \"1600\") & (df['Price'] > 525000)].index\n",
    "df.drop(indexNames, inplace=True)\n",
    "indexNames = df[(df['Make'] == 'volkswagen') & (df['Model'] == \"phaeton\") & (df['Price'] > 5000000)].index\n",
    "df.drop(indexNames, inplace=True)\n",
    "indexNames = df[(df['Make'] == 'volkswagen') & (df['Model'] == \"caravelle\") & (df['Price'] > 1650000)].index\n",
    "df.drop(indexNames, inplace=True)\n",
    "indexNames = df[(df['Make'] == 'volkswagen') & (df['Model'] == \"gti\") & (df['Price'] > 2450000)].index\n",
    "df.drop(indexNames, inplace=True)  "
   ]
  },
  {
   "cell_type": "markdown",
   "metadata": {},
   "source": [
    "<b>Lets now sort the mileage (Km run) in ascending and descending order to know the flaws in mileage</b>\n",
    "<br>\n",
    "The reason to do this is the car with 0 mileage can not be the used car and the car with more than 1,50,000 lac mileage, people wont be thinking of this to buy it."
   ]
  },
  {
   "cell_type": "code",
   "execution_count": 10,
   "metadata": {},
   "outputs": [
    {
     "data": {
      "text/html": [
       "<div>\n",
       "<style scoped>\n",
       "    .dataframe tbody tr th:only-of-type {\n",
       "        vertical-align: middle;\n",
       "    }\n",
       "\n",
       "    .dataframe tbody tr th {\n",
       "        vertical-align: top;\n",
       "    }\n",
       "\n",
       "    .dataframe thead th {\n",
       "        text-align: right;\n",
       "    }\n",
       "</style>\n",
       "<table border=\"1\" class=\"dataframe\">\n",
       "  <thead>\n",
       "    <tr style=\"text-align: right;\">\n",
       "      <th></th>\n",
       "      <th>Make</th>\n",
       "      <th>Model</th>\n",
       "      <th>Variant</th>\n",
       "      <th>City</th>\n",
       "      <th>Mileage</th>\n",
       "      <th>Mfgyear</th>\n",
       "      <th>Owner</th>\n",
       "      <th>Price</th>\n",
       "      <th>Fuel</th>\n",
       "    </tr>\n",
       "  </thead>\n",
       "  <tbody>\n",
       "    <tr>\n",
       "      <td>100995</td>\n",
       "      <td>ford</td>\n",
       "      <td>ecosport</td>\n",
       "      <td>1.5 ti-vct titanium (mt) petrol</td>\n",
       "      <td>pune</td>\n",
       "      <td>0</td>\n",
       "      <td>2018</td>\n",
       "      <td>1</td>\n",
       "      <td>1125000</td>\n",
       "      <td>petrol</td>\n",
       "    </tr>\n",
       "    <tr>\n",
       "      <td>12244</td>\n",
       "      <td>toyota</td>\n",
       "      <td>innova</td>\n",
       "      <td>2.5 g (diesel) 7 str euro3</td>\n",
       "      <td>amravati</td>\n",
       "      <td>0</td>\n",
       "      <td>2013</td>\n",
       "      <td>2</td>\n",
       "      <td>1000000</td>\n",
       "      <td>diesel</td>\n",
       "    </tr>\n",
       "    <tr>\n",
       "      <td>25660</td>\n",
       "      <td>toyota</td>\n",
       "      <td>innova</td>\n",
       "      <td>2.5 g (diesel) 7 str euro3</td>\n",
       "      <td>akola</td>\n",
       "      <td>0</td>\n",
       "      <td>2013</td>\n",
       "      <td>2</td>\n",
       "      <td>1000000</td>\n",
       "      <td>diesel</td>\n",
       "    </tr>\n",
       "  </tbody>\n",
       "</table>\n",
       "</div>"
      ],
      "text/plain": [
       "          Make     Model                          Variant      City  Mileage  \\\n",
       "100995    ford  ecosport  1.5 ti-vct titanium (mt) petrol      pune        0   \n",
       "12244   toyota    innova       2.5 g (diesel) 7 str euro3  amravati        0   \n",
       "25660   toyota    innova       2.5 g (diesel) 7 str euro3     akola        0   \n",
       "\n",
       "        Mfgyear Owner    Price    Fuel  \n",
       "100995     2018     1  1125000  petrol  \n",
       "12244      2013     2  1000000  diesel  \n",
       "25660      2013     2  1000000  diesel  "
      ]
     },
     "execution_count": 10,
     "metadata": {},
     "output_type": "execute_result"
    }
   ],
   "source": [
    "mileage_less= df.sort_values(\"Mileage\", ascending = True)\n",
    "mileage_more= df.sort_values(\"Mileage\", ascending = False)\n",
    "mileage_less.head(3)"
   ]
  },
  {
   "cell_type": "code",
   "execution_count": 11,
   "metadata": {},
   "outputs": [
    {
     "data": {
      "text/html": [
       "<div>\n",
       "<style scoped>\n",
       "    .dataframe tbody tr th:only-of-type {\n",
       "        vertical-align: middle;\n",
       "    }\n",
       "\n",
       "    .dataframe tbody tr th {\n",
       "        vertical-align: top;\n",
       "    }\n",
       "\n",
       "    .dataframe thead th {\n",
       "        text-align: right;\n",
       "    }\n",
       "</style>\n",
       "<table border=\"1\" class=\"dataframe\">\n",
       "  <thead>\n",
       "    <tr style=\"text-align: right;\">\n",
       "      <th></th>\n",
       "      <th>Make</th>\n",
       "      <th>Model</th>\n",
       "      <th>Variant</th>\n",
       "      <th>City</th>\n",
       "      <th>Mileage</th>\n",
       "      <th>Mfgyear</th>\n",
       "      <th>Owner</th>\n",
       "      <th>Price</th>\n",
       "      <th>Fuel</th>\n",
       "    </tr>\n",
       "  </thead>\n",
       "  <tbody>\n",
       "    <tr>\n",
       "      <td>48075</td>\n",
       "      <td>hyundai</td>\n",
       "      <td>grand i10</td>\n",
       "      <td>sportz 1.2 vtvt kappa petrol</td>\n",
       "      <td>kolkata</td>\n",
       "      <td>987418548</td>\n",
       "      <td>2017</td>\n",
       "      <td>4+</td>\n",
       "      <td>600000</td>\n",
       "      <td>petrol</td>\n",
       "    </tr>\n",
       "    <tr>\n",
       "      <td>78129</td>\n",
       "      <td>tata</td>\n",
       "      <td>sumo</td>\n",
       "      <td>victa ex</td>\n",
       "      <td>pune</td>\n",
       "      <td>959573739</td>\n",
       "      <td>2004</td>\n",
       "      <td>2</td>\n",
       "      <td>150000</td>\n",
       "      <td>diesel</td>\n",
       "    </tr>\n",
       "    <tr>\n",
       "      <td>30894</td>\n",
       "      <td>honda</td>\n",
       "      <td>civic</td>\n",
       "      <td>1.8v at</td>\n",
       "      <td>faridabad</td>\n",
       "      <td>74500275</td>\n",
       "      <td>2008</td>\n",
       "      <td>1</td>\n",
       "      <td>275000</td>\n",
       "      <td>petrol</td>\n",
       "    </tr>\n",
       "  </tbody>\n",
       "</table>\n",
       "</div>"
      ],
      "text/plain": [
       "          Make      Model                       Variant       City    Mileage  \\\n",
       "48075  hyundai  grand i10  sportz 1.2 vtvt kappa petrol    kolkata  987418548   \n",
       "78129     tata       sumo                      victa ex       pune  959573739   \n",
       "30894    honda      civic                       1.8v at  faridabad   74500275   \n",
       "\n",
       "       Mfgyear Owner   Price    Fuel  \n",
       "48075     2017    4+  600000  petrol  \n",
       "78129     2004     2  150000  diesel  \n",
       "30894     2008     1  275000  petrol  "
      ]
     },
     "execution_count": 11,
     "metadata": {},
     "output_type": "execute_result"
    }
   ],
   "source": [
    "mileage_more.head(3)"
   ]
  },
  {
   "cell_type": "code",
   "execution_count": 12,
   "metadata": {},
   "outputs": [],
   "source": [
    "df = df[df[\"Mileage\"] <= 150000]\n",
    "\n",
    "#There is an possibility of cars who has run less if they are manufactured in recent years (can be 2018, 2019).\n",
    "\n",
    "df.drop(df[((df['Mileage'] <= 100) & (df['Mfgyear'] < 2017)) | (df['Mileage'] <= 100)].index, inplace=True)"
   ]
  },
  {
   "cell_type": "markdown",
   "metadata": {},
   "source": [
    "Here we will be taking the cars after 1999 becasue there are very few people interested in vintage cars.</b>\n",
    "<br>\n",
    "As I am not taking any luxury cars hence I am putting price limit till 6000000 or 60 lacs"
   ]
  },
  {
   "cell_type": "code",
   "execution_count": 13,
   "metadata": {},
   "outputs": [
    {
     "data": {
      "text/html": [
       "<div>\n",
       "<style scoped>\n",
       "    .dataframe tbody tr th:only-of-type {\n",
       "        vertical-align: middle;\n",
       "    }\n",
       "\n",
       "    .dataframe tbody tr th {\n",
       "        vertical-align: top;\n",
       "    }\n",
       "\n",
       "    .dataframe thead th {\n",
       "        text-align: right;\n",
       "    }\n",
       "</style>\n",
       "<table border=\"1\" class=\"dataframe\">\n",
       "  <thead>\n",
       "    <tr style=\"text-align: right;\">\n",
       "      <th></th>\n",
       "      <th>Make</th>\n",
       "      <th>Model</th>\n",
       "      <th>Variant</th>\n",
       "      <th>City</th>\n",
       "      <th>Mileage</th>\n",
       "      <th>Mfgyear</th>\n",
       "      <th>Owner</th>\n",
       "      <th>Price</th>\n",
       "      <th>Fuel</th>\n",
       "    </tr>\n",
       "  </thead>\n",
       "  <tbody>\n",
       "    <tr>\n",
       "      <td>5926</td>\n",
       "      <td>mahindra</td>\n",
       "      <td>jeep</td>\n",
       "      <td>cj 500 d</td>\n",
       "      <td>bangalore</td>\n",
       "      <td>50000</td>\n",
       "      <td>1988</td>\n",
       "      <td>4</td>\n",
       "      <td>350000</td>\n",
       "      <td>diesel</td>\n",
       "    </tr>\n",
       "    <tr>\n",
       "      <td>25322</td>\n",
       "      <td>mahindra</td>\n",
       "      <td>jeep</td>\n",
       "      <td>mm 540</td>\n",
       "      <td>ahmedabad</td>\n",
       "      <td>1000</td>\n",
       "      <td>1988</td>\n",
       "      <td>2</td>\n",
       "      <td>350000</td>\n",
       "      <td>diesel</td>\n",
       "    </tr>\n",
       "    <tr>\n",
       "      <td>34325</td>\n",
       "      <td>maruti suzuki</td>\n",
       "      <td>800</td>\n",
       "      <td>std</td>\n",
       "      <td>chennai</td>\n",
       "      <td>95000</td>\n",
       "      <td>1991</td>\n",
       "      <td>3</td>\n",
       "      <td>60000</td>\n",
       "      <td>petrol</td>\n",
       "    </tr>\n",
       "  </tbody>\n",
       "</table>\n",
       "</div>"
      ],
      "text/plain": [
       "                Make Model   Variant       City  Mileage  Mfgyear Owner  \\\n",
       "5926        mahindra  jeep  cj 500 d  bangalore    50000     1988     4   \n",
       "25322       mahindra  jeep    mm 540  ahmedabad     1000     1988     2   \n",
       "34325  maruti suzuki   800       std    chennai    95000     1991     3   \n",
       "\n",
       "        Price    Fuel  \n",
       "5926   350000  diesel  \n",
       "25322  350000  diesel  \n",
       "34325   60000  petrol  "
      ]
     },
     "execution_count": 13,
     "metadata": {},
     "output_type": "execute_result"
    }
   ],
   "source": [
    "df.sort_values('Mfgyear', ascending=True).head(3)"
   ]
  },
  {
   "cell_type": "code",
   "execution_count": 14,
   "metadata": {},
   "outputs": [],
   "source": [
    "df = df[(df['Mfgyear'] > 1999) & (df['Price'] < 6000000)]"
   ]
  },
  {
   "cell_type": "markdown",
   "metadata": {},
   "source": [
    "This was the analysis below I had to do earlier, but found that string values in Owner numerical values, and will be overcoming this with simple assumption "
   ]
  },
  {
   "cell_type": "code",
   "execution_count": 15,
   "metadata": {
    "scrolled": false
   },
   "outputs": [],
   "source": [
    "df.loc[((df[\"Owner\"]==\"4+\") | (df[\"Owner\"]==\"4 & more\") | (df[\"Owner\"]==\"More than 4\")), \"Owner\"] = 5"
   ]
  },
  {
   "cell_type": "markdown",
   "metadata": {},
   "source": [
    "<b>So this is how our data is clean now</b>\n",
    "<br>\n",
    "<b>Now we don't need touch our original data, we will make a copy of it to perform further EDA</b>"
   ]
  },
  {
   "cell_type": "code",
   "execution_count": 16,
   "metadata": {},
   "outputs": [],
   "source": [
    "df_copy = df.copy()"
   ]
  },
  {
   "cell_type": "markdown",
   "metadata": {},
   "source": [
    "Let just figure out how does our data behave. In order to do that, we will be doing EDA (Exploratory Data Analysis) "
   ]
  },
  {
   "cell_type": "markdown",
   "metadata": {},
   "source": [
    "# EDA"
   ]
  },
  {
   "cell_type": "markdown",
   "metadata": {},
   "source": [
    "Lets just use ditribution plot to check how is our data distributed over manufacturing years (Mfgyear)"
   ]
  },
  {
   "cell_type": "code",
   "execution_count": 17,
   "metadata": {},
   "outputs": [
    {
     "data": {
      "image/png": "[encoded data removed]",
      "text/plain": [
       "<Figure size 864x432 with 1 Axes>"
      ]
     },
     "metadata": {
      "needs_background": "light"
     },
     "output_type": "display_data"
    }
   ],
   "source": [
    "fig = plt.figure(figsize=(12,6))\n",
    "ax = fig.gca()\n",
    "sns.distplot(df_copy[\"Mfgyear\"],kde=False, hist_kws={\"alpha\":0.7,'width':0.6})\n",
    "plt.title('Listings per Model Year',fontsize=16)\n",
    "plt.xticks(sorted(df_copy[\"Mfgyear\"].unique()),horizontalalignment='left')\n",
    "plt.ylabel('Number of Listings',fontsize=14)\n",
    "plt.xlabel('Model Year', fontsize=14)\n",
    "#plt.xlim(2004.5,2017)\n",
    "plt.show()"
   ]
  },
  {
   "cell_type": "markdown",
   "metadata": {},
   "source": [
    "Lets just analyse the distribution of listings over total km runs and find mean of mileage by total cars "
   ]
  },
  {
   "cell_type": "code",
   "execution_count": 18,
   "metadata": {
    "scrolled": false
   },
   "outputs": [
    {
     "data": {
      "image/png": "[encoded data removed]",
      "text/plain": [
       "<Figure size 864x432 with 1 Axes>"
      ]
     },
     "metadata": {
      "needs_background": "light"
     },
     "output_type": "display_data"
    }
   ],
   "source": [
    "fig = plt.figure(figsize=(12,6))\n",
    "ax = fig.gca()\n",
    "sns.distplot(df_copy[\"Mileage\"],kde=False, color = \"orange\")\n",
    "plt.xlabel('Km Run',fontsize=14,fontweight=\"bold\")\n",
    "plt.axvline(df_copy[\"Mileage\"].mean(),lw=3,ls='dashed',\n",
    "            color='green',label='Mean km run:'+'{0:.0f}'.format(np.mean(df_copy[\"Mileage\"])))\n",
    "plt.title('Total Km over All Listings',fontsize=18,fontweight=\"bold\")\n",
    "plt.legend(loc='upper right',fontsize=16)\n",
    "plt.show()"
   ]
  },
  {
   "cell_type": "markdown",
   "metadata": {},
   "source": [
    "We will check now total listings per make"
   ]
  },
  {
   "cell_type": "code",
   "execution_count": 19,
   "metadata": {
    "scrolled": false
   },
   "outputs": [
    {
     "data": {
      "text/plain": [
       "Text(0.5, 1.0, 'Distirbution of listings by Make')"
      ]
     },
     "execution_count": 19,
     "metadata": {},
     "output_type": "execute_result"
    },
    {
     "data": {
      "image/png": "[encoded data removed]",
      "text/plain": [
       "<Figure size 864x432 with 1 Axes>"
      ]
     },
     "metadata": {
      "needs_background": "light"
     },
     "output_type": "display_data"
    }
   ],
   "source": [
    "plt.figure(figsize=(12, 6))\n",
    "\n",
    "df.Make.value_counts().plot(kind='barh')\n",
    "plt.xlabel('Number of Listings',fontsize=14,fontweight=\"bold\")\n",
    "plt.ylabel('Make',fontsize=14,fontweight=\"bold\")\n",
    "plt.title('Distirbution of listings by Make',fontsize=14,fontweight=\"bold\")"
   ]
  },
  {
   "cell_type": "markdown",
   "metadata": {},
   "source": [
    "Now lets just find out how our prices listed over make"
   ]
  },
  {
   "cell_type": "code",
   "execution_count": 20,
   "metadata": {
    "scrolled": false
   },
   "outputs": [
    {
     "data": {
      "image/png": "[encoded data removed]",
      "text/plain": [
       "<Figure size 864x432 with 1 Axes>"
      ]
     },
     "metadata": {
      "needs_background": "light"
     },
     "output_type": "display_data"
    }
   ],
   "source": [
    "f, ax = plt.subplots(figsize=(12, 6))\n",
    "sns.stripplot(data = df_copy, x='Price', y='Make', jitter=.1)\n",
    "plt.xlabel('Price',fontsize=14,fontweight=\"bold\")\n",
    "plt.ylabel('Make',fontsize=14,fontweight=\"bold\")\n",
    "plt.title('Distirbution of prices by Make',fontsize=14,fontweight=\"bold\")\n",
    "plt.show()"
   ]
  },
  {
   "cell_type": "markdown",
   "metadata": {},
   "source": [
    "From the above graph, we found that ford, toyota and volkswagen cars have outliers and their prices are more as comapred to other manufacturers"
   ]
  },
  {
   "cell_type": "code",
   "execution_count": 21,
   "metadata": {
    "scrolled": false
   },
   "outputs": [
    {
     "data": {
      "image/png": "[encoded data removed]",
      "text/plain": [
       "<Figure size 864x432 with 1 Axes>"
      ]
     },
     "metadata": {
      "needs_background": "light"
     },
     "output_type": "display_data"
    }
   ],
   "source": [
    "f, ax = plt.subplots(figsize=(12, 6))\n",
    "sns.boxplot(data = df_copy, x='Fuel', y='Price', notch=True,orient='v')\n",
    "plt.xlabel('Fuel Type',fontsize=14,fontweight=\"bold\")\n",
    "plt.ylabel('Price',fontsize=14,fontweight=\"bold\")\n",
    "plt.title('Distirbution of prices by fuel type',fontsize=14,fontweight=\"bold\")\n",
    "plt.show()"
   ]
  },
  {
   "cell_type": "markdown",
   "metadata": {},
   "source": [
    "From the above, we can easily draw electric cars have more prices as compared to other fuel cars "
   ]
  },
  {
   "cell_type": "code",
   "execution_count": 22,
   "metadata": {
    "scrolled": false
   },
   "outputs": [
    {
     "data": {
      "text/plain": [
       "[Text(0, 0, '-1000000'),\n",
       " Text(0, 0, '0'),\n",
       " Text(0, 0, '1000000'),\n",
       " Text(0, 0, '2000000'),\n",
       " Text(0, 0, '3000000'),\n",
       " Text(0, 0, '4000000'),\n",
       " Text(0, 0, '5000000'),\n",
       " Text(0, 0, '6000000'),\n",
       " Text(0, 0, '7000000')]"
      ]
     },
     "execution_count": 22,
     "metadata": {},
     "output_type": "execute_result"
    },
    {
     "data": {
      "image/png": "[encoded data removed]",
      "text/plain": [
       "<Figure size 864x432 with 1 Axes>"
      ]
     },
     "metadata": {
      "needs_background": "light"
     },
     "output_type": "display_data"
    }
   ],
   "source": [
    "fig, ax = plt.subplots(figsize = (12,6))\n",
    "sns.regplot(df_copy.Mfgyear, df_copy.Price, data = df_copy, ci = False, \n",
    "                scatter_kws={\"color\":\"darkred\",\"alpha\":0.3,\"s\":90}, \n",
    "                line_kws={\"color\":\"green\",\"alpha\":0.5,\"lw\":4},marker=\"x\")\n",
    "\n",
    "plt.title('Disribution of prices over Model Year', fontsize = 20)\n",
    "plt.ylabel('Price', fontsize = 16)\n",
    "plt.xlabel('Model Year ', fontsize = 16)\n",
    "xvals = ax.get_xticks()\n",
    "ax.set_xticklabels(['{}'.format(int(x)) for x in xvals])\n",
    "\n",
    "yvals = ax.get_yticks()\n",
    "ax.set_yticklabels(['{}'.format(int(y)) for y in yvals])"
   ]
  },
  {
   "cell_type": "markdown",
   "metadata": {},
   "source": [
    "<b>In the above regression plot, we can clearly see the best fit line is drawn and we can get insight of model year 2015 have best possible price around 5 lacs to 6 lacs.</b> "
   ]
  },
  {
   "cell_type": "markdown",
   "metadata": {},
   "source": [
    "# Modelling "
   ]
  },
  {
   "cell_type": "markdown",
   "metadata": {},
   "source": [
    "Let just work on our model. For that, we will be using train_test_split function.<br> \n",
    "Models Used are :<br>\n",
    "1) Linear Regression<br>\n",
    "2) KNN Regression<br>\n",
    "3) Decision Tree Regression<br>\n",
    "4) XGBoost<br>"
   ]
  },
  {
   "cell_type": "code",
   "execution_count": 23,
   "metadata": {},
   "outputs": [],
   "source": [
    "X = df_copy.drop(\"Price\", axis = \"columns\")\n",
    "y = df_copy.Price\n",
    "# now we use the train_test_split function already available in sklearn library to split our data set\n",
    "X_train, X_test, Y_train, Y_test = train_test_split(X, y, test_size = .20, random_state = 42)"
   ]
  },
  {
   "cell_type": "markdown",
   "metadata": {},
   "source": [
    "I have used column transformer to trasnform the columns with one hot encoding for categorical features and to bypasss the numerical features.\n",
    "<br>\n",
    "Categorical features are: Make, Model, Variant, City, Fuel\n",
    "Numerical features are: Mileage, Mfgyear and Owner\n",
    "<br>\n",
    "Column transformer will simply convert categorical features into 0s, 1s and simply adds the numerical columns in the data. You can <a href=\"https://www.youtube.com/watch?v=irHhDMbw3xo&t=1371s\">check here</a>"
   ]
  },
  {
   "cell_type": "code",
   "execution_count": 24,
   "metadata": {},
   "outputs": [],
   "source": [
    "hot = OneHotEncoder(sparse=False, handle_unknown='ignore')\n",
    "column_trans = make_column_transformer((hot, ['Make', 'Model', 'Variant', 'City', 'Fuel']), remainder=\"passthrough\")"
   ]
  },
  {
   "cell_type": "markdown",
   "metadata": {},
   "source": [
    "<b>For KNN, we can not directly define neighbours, In roder to decide the neighbours value, we should check with all the neighbours with lowest RMSE value</b><br>\n",
    "It might take some time to traverse through all the neighbors  "
   ]
  },
  {
   "cell_type": "code",
   "execution_count": 25,
   "metadata": {},
   "outputs": [],
   "source": [
    "all_rmse = []\n",
    "nbrs = []\n",
    "for n in range(2, 12):\n",
    "    knn = neighbors.KNeighborsRegressor(n_neighbors=n)\n",
    "    pipe_knn = make_pipeline(column_trans, knn)\n",
    "    pipe_knn.fit(X_train, Y_train)\n",
    "    predicted = pipe_knn.predict(X_test)\n",
    "    all_rmse.append(np.sqrt(mean_squared_error(Y_test, predicted)))\n",
    "    nbrs.append(n)"
   ]
  },
  {
   "cell_type": "code",
   "execution_count": 27,
   "metadata": {},
   "outputs": [
    {
     "data": {
      "image/png": "[encoded data removed]",
      "text/plain": [
       "<Figure size 864x432 with 1 Axes>"
      ]
     },
     "metadata": {
      "needs_background": "light"
     },
     "output_type": "display_data"
    }
   ],
   "source": [
    "ax = plt.figure(figsize=(12,6))\n",
    "check_best_nbr = pd.DataFrame()\n",
    "check_best_nbr['rmse'] = all_rmse\n",
    "check_best_nbr['n_neighbors'] = nbrs\n",
    "sns.barplot(data = check_best_nbr, x = 'n_neighbors', y = 'rmse')\n",
    "plt.show()"
   ]
  },
  {
   "cell_type": "markdown",
   "metadata": {},
   "source": [
    "<b>Here I am initializing all the models.</b> "
   ]
  },
  {
   "cell_type": "code",
   "execution_count": 28,
   "metadata": {},
   "outputs": [],
   "source": [
    "knn = neighbors.KNeighborsRegressor(n_neighbors=3)\n",
    "gbr = GradientBoostingRegressor(loss ='ls', max_depth=6)\n",
    "dtr = DecisionTreeRegressor(max_features='auto')\n",
    "linear_reg = LinearRegression()"
   ]
  },
  {
   "cell_type": "markdown",
   "metadata": {},
   "source": [
    "<b>Here I am chaining the all processes with pipeline function.</b> "
   ]
  },
  {
   "cell_type": "code",
   "execution_count": 29,
   "metadata": {},
   "outputs": [],
   "source": [
    "pipe_linear = make_pipeline(column_trans, linear_reg)\n",
    "pipe_knn = make_pipeline(column_trans, knn)\n",
    "pipe_tree = make_pipeline(column_trans, dtr)\n",
    "pipe_gbr = make_pipeline(column_trans,gbr)"
   ]
  },
  {
   "cell_type": "markdown",
   "metadata": {},
   "source": [
    "Here we are using R2_score and if R2_score is more then we get low variablity in y ie. prices and vice versa.\n",
    "\n",
    "To check the accuracy, we will be taking rmse value of all the models.\n",
    "\n",
    "Here RMSE value indicates standard deviation of residuals where residuals are Y_test (Actual) - Y_predicted (forecasted) for each data point"
   ]
  },
  {
   "cell_type": "markdown",
   "metadata": {},
   "source": [
    "## Linear Regression Accuracy"
   ]
  },
  {
   "cell_type": "code",
   "execution_count": 30,
   "metadata": {},
   "outputs": [
    {
     "name": "stdout",
     "output_type": "stream",
     "text": [
      "Linear regression RMSE: 5267459066.611786 & Accuracy score: -236168078.46\n"
     ]
    }
   ],
   "source": [
    "pipe_linear.fit(X_train, Y_train)\n",
    "linear_predicted = pipe_linear.predict(X_test)\n",
    "rmse_linear = np.sqrt(mean_squared_error(Y_test, linear_predicted))\n",
    "print(\"Linear regression RMSE: %f\" % rmse_linear + \" & Accuracy score: %.2f\" % r2_score(Y_test, linear_predicted))"
   ]
  },
  {
   "cell_type": "markdown",
   "metadata": {},
   "source": [
    "## KNN Accuracy"
   ]
  },
  {
   "cell_type": "code",
   "execution_count": 32,
   "metadata": {},
   "outputs": [
    {
     "name": "stdout",
     "output_type": "stream",
     "text": [
      "KNN RMSE: 219974.253894 & Accuracy score: 0.59\n"
     ]
    }
   ],
   "source": [
    "pipe_knn.fit(X_train, Y_train)\n",
    "knn_predicted = pipe_knn.predict(X_test)\n",
    "rmse_knn = np.sqrt(mean_squared_error(Y_test, knn_predicted))\n",
    "print(\"KNN RMSE: %f\" % rmse_knn + ' & Accuracy score: %.2f' % r2_score(Y_test, knn_predicted))"
   ]
  },
  {
   "cell_type": "markdown",
   "metadata": {},
   "source": [
    "## Decision Tree Regression Accuracy"
   ]
  },
  {
   "cell_type": "code",
   "execution_count": 33,
   "metadata": {},
   "outputs": [
    {
     "name": "stdout",
     "output_type": "stream",
     "text": [
      "Tree RMSE: 103435.667940 & Accuracy score: 0.91\n"
     ]
    }
   ],
   "source": [
    "pipe_tree.fit(X_train, Y_train)\n",
    "tree_predicted = pipe_tree.predict(X_test)\n",
    "rmse_tree = np.sqrt(mean_squared_error(Y_test, tree_predicted))\n",
    "print(\"Tree RMSE: %f\" % rmse_tree + ' & Accuracy score: %.2f' % r2_score(Y_test, tree_predicted))"
   ]
  },
  {
   "cell_type": "markdown",
   "metadata": {},
   "source": [
    "## XGBoost Accuracy"
   ]
  },
  {
   "cell_type": "code",
   "execution_count": 34,
   "metadata": {},
   "outputs": [
    {
     "name": "stdout",
     "output_type": "stream",
     "text": [
      "GBR RMSE: 101933.249355 & Accuracy score: 0.91\n"
     ]
    }
   ],
   "source": [
    "pipe_gbr.fit(X_train, Y_train)\n",
    "gbr_predicted = pipe_gbr.predict(X_test)\n",
    "rmse_gbr = np.sqrt(mean_squared_error(Y_test, gbr_predicted))\n",
    "print(\"GBR RMSE: %f\" % rmse_gbr + ' & Accuracy score: %.2f' % r2_score(Y_test, gbr_predicted))"
   ]
  },
  {
   "cell_type": "markdown",
   "metadata": {},
   "source": [
    "### Here we clearly get to see that XGBoost is best among all as It has more R2_square value than others, Accuracy score is High "
   ]
  },
  {
   "cell_type": "code",
   "execution_count": 35,
   "metadata": {},
   "outputs": [],
   "source": [
    "A = Y_test.values.reshape(-1, 1)\n",
    "B = tree_predicted.reshape(-1, 1)\n",
    "C = gbr_predicted.reshape(-1, 1)"
   ]
  },
  {
   "cell_type": "code",
   "execution_count": 38,
   "metadata": {},
   "outputs": [
    {
     "data": {
      "image/png": "[encoded data removed]",
      "text/plain": [
       "<Figure size 1152x360 with 1 Axes>"
      ]
     },
     "metadata": {
      "needs_background": "light"
     },
     "output_type": "display_data"
    }
   ],
   "source": [
    "plt.rcParams['figure.figsize'] = 16,5\n",
    "plt.figure()\n",
    "plt.plot(A[-100:], label=\"Real\", color=\"Red\")\n",
    "plt.plot(B[-100:], label=\"Tree Predicted\", linestyle='dashed', color = \"green\")\n",
    "plt.plot(C[-100:], label=\"XGBoost Predicted\", linestyle='dashed', color = \"blue\")\n",
    "plt.legend()\n",
    "plt.title(\"Price: real vs predicted\")\n",
    "plt.ylabel(\"price [Rs]\")\n",
    "plt.xticks(())\n",
    "plt.show()"
   ]
  }
 ],
 "metadata": {
  "kernelspec": {
   "display_name": "Python 3",
   "language": "python",
   "name": "python3"
  },
  "language_info": {
   "codemirror_mode": {
    "name": "ipython",
    "version": 3
   },
   "file_extension": ".py",
   "mimetype": "text/x-python",
   "name": "python",
   "nbconvert_exporter": "python",
   "pygments_lexer": "ipython3",
   "version": "3.7.4"
  }
 },
 "nbformat": 4,
 "nbformat_minor": 2
}
